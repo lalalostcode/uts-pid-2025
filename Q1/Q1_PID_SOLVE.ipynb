{
 "cells": [
  {
   "cell_type": "markdown",
   "id": "699a20cb",
   "metadata": {},
   "source": [
    "Q1"
   ]
  },
  {
   "cell_type": "code",
   "execution_count": 10,
   "id": "e29cf897",
   "metadata": {},
   "outputs": [],
   "source": [
    "import pandas as pd\n",
    "\n",
    "def clean_sensor_data(df):\n",
    "    df['temperature_kelvin'] = df['temperature_kelvin'].fillna(df['temperature_kelvin'].mean())\n",
    "    return df\n",
    "\n",
    "def calculate_aggregates(df):\n",
    "    df = df.groupby('truck_id').agg({'temperature_kelvin': 'mean', 'humidity_percent': 'max'})\n",
    "    return df"
   ]
  },
  {
   "cell_type": "code",
   "execution_count": 11,
   "id": "c018cd53",
   "metadata": {},
   "outputs": [
    {
     "data": {
      "text/plain": [
       "truck_id              11\n",
       "sensor_id             10\n",
       "timestamp              6\n",
       "temperature_kelvin    36\n",
       "humidity_percent      37\n",
       "gps_lat               43\n",
       "gps_lng               43\n",
       "engine_status          3\n",
       "dtype: int64"
      ]
     },
     "execution_count": 11,
     "metadata": {},
     "output_type": "execute_result"
    }
   ],
   "source": [
    "df = pd.read_csv('PID/datasets/sensor_data_raw.csv')\n",
    "df.head()\n",
    "df.nunique()"
   ]
  },
  {
   "cell_type": "code",
   "execution_count": 12,
   "id": "1e0b4c68",
   "metadata": {},
   "outputs": [
    {
     "data": {
      "text/html": [
       "<div>\n",
       "<style scoped>\n",
       "    .dataframe tbody tr th:only-of-type {\n",
       "        vertical-align: middle;\n",
       "    }\n",
       "\n",
       "    .dataframe tbody tr th {\n",
       "        vertical-align: top;\n",
       "    }\n",
       "\n",
       "    .dataframe thead th {\n",
       "        text-align: right;\n",
       "    }\n",
       "</style>\n",
       "<table border=\"1\" class=\"dataframe\">\n",
       "  <thead>\n",
       "    <tr style=\"text-align: right;\">\n",
       "      <th></th>\n",
       "      <th>temperature_kelvin</th>\n",
       "      <th>humidity_percent</th>\n",
       "    </tr>\n",
       "    <tr>\n",
       "      <th>truck_id</th>\n",
       "      <th></th>\n",
       "      <th></th>\n",
       "    </tr>\n",
       "  </thead>\n",
       "  <tbody>\n",
       "    <tr>\n",
       "      <th>&lt;/invoke&gt;</th>\n",
       "      <td>300.459091</td>\n",
       "      <td>NaN</td>\n",
       "    </tr>\n",
       "    <tr>\n",
       "      <th>TRK001</th>\n",
       "      <td>301.566667</td>\n",
       "      <td>69.8</td>\n",
       "    </tr>\n",
       "    <tr>\n",
       "      <th>TRK002</th>\n",
       "      <td>298.584848</td>\n",
       "      <td>70.2</td>\n",
       "    </tr>\n",
       "    <tr>\n",
       "      <th>TRK003</th>\n",
       "      <td>304.650000</td>\n",
       "      <td>77.8</td>\n",
       "    </tr>\n",
       "    <tr>\n",
       "      <th>TRK004</th>\n",
       "      <td>298.933333</td>\n",
       "      <td>67.5</td>\n",
       "    </tr>\n",
       "    <tr>\n",
       "      <th>TRK005</th>\n",
       "      <td>301.416667</td>\n",
       "      <td>73.1</td>\n",
       "    </tr>\n",
       "    <tr>\n",
       "      <th>TRK006</th>\n",
       "      <td>298.116667</td>\n",
       "      <td>64.9</td>\n",
       "    </tr>\n",
       "    <tr>\n",
       "      <th>TRK007</th>\n",
       "      <td>300.516667</td>\n",
       "      <td>68.5</td>\n",
       "    </tr>\n",
       "    <tr>\n",
       "      <th>TRK008</th>\n",
       "      <td>297.016667</td>\n",
       "      <td>63.4</td>\n",
       "    </tr>\n",
       "    <tr>\n",
       "      <th>TRK009</th>\n",
       "      <td>301.716667</td>\n",
       "      <td>71.8</td>\n",
       "    </tr>\n",
       "    <tr>\n",
       "      <th>TRK010</th>\n",
       "      <td>299.216667</td>\n",
       "      <td>66.9</td>\n",
       "    </tr>\n",
       "  </tbody>\n",
       "</table>\n",
       "</div>"
      ],
      "text/plain": [
       "           temperature_kelvin  humidity_percent\n",
       "truck_id                                       \n",
       "</invoke>          300.459091               NaN\n",
       "TRK001             301.566667              69.8\n",
       "TRK002             298.584848              70.2\n",
       "TRK003             304.650000              77.8\n",
       "TRK004             298.933333              67.5\n",
       "TRK005             301.416667              73.1\n",
       "TRK006             298.116667              64.9\n",
       "TRK007             300.516667              68.5\n",
       "TRK008             297.016667              63.4\n",
       "TRK009             301.716667              71.8\n",
       "TRK010             299.216667              66.9"
      ]
     },
     "execution_count": 12,
     "metadata": {},
     "output_type": "execute_result"
    }
   ],
   "source": [
    "cleaned_df = clean_sensor_data(df)\n",
    "result_df = calculate_aggregates(cleaned_df)\n",
    "result_df.to_csv('PID/datasets/sensor_data_aggregated.csv', index=False)\n",
    "result_df"
   ]
  }
 ],
 "metadata": {
  "kernelspec": {
   "display_name": "Python 3",
   "language": "python",
   "name": "python3"
  },
  "language_info": {
   "codemirror_mode": {
    "name": "ipython",
    "version": 3
   },
   "file_extension": ".py",
   "mimetype": "text/x-python",
   "name": "python",
   "nbconvert_exporter": "python",
   "pygments_lexer": "ipython3",
   "version": "3.11.9"
  }
 },
 "nbformat": 4,
 "nbformat_minor": 5
}
