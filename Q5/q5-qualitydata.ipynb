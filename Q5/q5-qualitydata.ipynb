{
 "cells": [
  {
   "cell_type": "code",
   "execution_count": null,
   "id": "df6ffd0f",
   "metadata": {},
   "outputs": [
    {
     "ename": "ModuleNotFoundError",
     "evalue": "No module named 'pandas'",
     "output_type": "error",
     "traceback": [
      "\u001b[0;31m---------------------------------------------------------------------------\u001b[0m",
      "\u001b[0;31mModuleNotFoundError\u001b[0m                       Traceback (most recent call last)",
      "Cell \u001b[0;32mIn[1], line 1\u001b[0m\n\u001b[0;32m----> 1\u001b[0m \u001b[38;5;28;01mimport\u001b[39;00m\u001b[38;5;250m \u001b[39m\u001b[38;5;21;01mpandas\u001b[39;00m\u001b[38;5;250m \u001b[39m\u001b[38;5;28;01mas\u001b[39;00m\u001b[38;5;250m \u001b[39m\u001b[38;5;21;01mpd\u001b[39;00m\n\u001b[1;32m      3\u001b[0m \u001b[38;5;66;03m# Test data dengan quality issues\u001b[39;00m\n\u001b[1;32m      4\u001b[0m test_data \u001b[38;5;241m=\u001b[39m pd\u001b[38;5;241m.\u001b[39mDataFrame([\n\u001b[1;32m      5\u001b[0m     {\u001b[38;5;124m\"\u001b[39m\u001b[38;5;124msensor_id\u001b[39m\u001b[38;5;124m\"\u001b[39m: \u001b[38;5;124m\"\u001b[39m\u001b[38;5;124mSENS001\u001b[39m\u001b[38;5;124m\"\u001b[39m, \u001b[38;5;124m\"\u001b[39m\u001b[38;5;124mtruck_id\u001b[39m\u001b[38;5;124m\"\u001b[39m: \u001b[38;5;124m\"\u001b[39m\u001b[38;5;124mTRK001\u001b[39m\u001b[38;5;124m\"\u001b[39m, \u001b[38;5;124m\"\u001b[39m\u001b[38;5;124mtemp\u001b[39m\u001b[38;5;124m\"\u001b[39m: \u001b[38;5;241m-\u001b[39m\u001b[38;5;241m999\u001b[39m, \u001b[38;5;124m\"\u001b[39m\u001b[38;5;124mhumidity\u001b[39m\u001b[38;5;124m\"\u001b[39m: \u001b[38;5;241m120\u001b[39m},  \u001b[38;5;66;03m# Invalid values\u001b[39;00m\n\u001b[1;32m      6\u001b[0m     {\u001b[38;5;124m\"\u001b[39m\u001b[38;5;124msensor_id\u001b[39m\u001b[38;5;124m\"\u001b[39m: \u001b[38;5;124m\"\u001b[39m\u001b[38;5;124mSENS002\u001b[39m\u001b[38;5;124m\"\u001b[39m, \u001b[38;5;124m\"\u001b[39m\u001b[38;5;124mtruck_id\u001b[39m\u001b[38;5;124m\"\u001b[39m: \u001b[38;5;124m\"\u001b[39m\u001b[38;5;124m\"\u001b[39m, \u001b[38;5;124m\"\u001b[39m\u001b[38;5;124mtemp\u001b[39m\u001b[38;5;124m\"\u001b[39m: \u001b[38;5;241m25.5\u001b[39m, \u001b[38;5;124m\"\u001b[39m\u001b[38;5;124mhumidity\u001b[39m\u001b[38;5;124m\"\u001b[39m: \u001b[38;5;28;01mNone\u001b[39;00m},       \u001b[38;5;66;03m# Missing values  \u001b[39;00m\n\u001b[1;32m      7\u001b[0m     {\u001b[38;5;124m\"\u001b[39m\u001b[38;5;124msensor_id\u001b[39m\u001b[38;5;124m\"\u001b[39m: \u001b[38;5;124m\"\u001b[39m\u001b[38;5;124mSENS001\u001b[39m\u001b[38;5;124m\"\u001b[39m, \u001b[38;5;124m\"\u001b[39m\u001b[38;5;124mtruck_id\u001b[39m\u001b[38;5;124m\"\u001b[39m: \u001b[38;5;124m\"\u001b[39m\u001b[38;5;124mTRK001\u001b[39m\u001b[38;5;124m\"\u001b[39m, \u001b[38;5;124m\"\u001b[39m\u001b[38;5;124mtemp\u001b[39m\u001b[38;5;124m\"\u001b[39m: \u001b[38;5;241m25.5\u001b[39m, \u001b[38;5;124m\"\u001b[39m\u001b[38;5;124mhumidity\u001b[39m\u001b[38;5;124m\"\u001b[39m: \u001b[38;5;241m65\u001b[39m},   \u001b[38;5;66;03m# Duplicate\u001b[39;00m\n\u001b[1;32m      8\u001b[0m     {\u001b[38;5;124m\"\u001b[39m\u001b[38;5;124msensor_id\u001b[39m\u001b[38;5;124m\"\u001b[39m: \u001b[38;5;124m\"\u001b[39m\u001b[38;5;124mSENS001\u001b[39m\u001b[38;5;124m\"\u001b[39m, \u001b[38;5;124m\"\u001b[39m\u001b[38;5;124mtruck_id\u001b[39m\u001b[38;5;124m\"\u001b[39m: \u001b[38;5;124m\"\u001b[39m\u001b[38;5;124mTRK001\u001b[39m\u001b[38;5;124m\"\u001b[39m, \u001b[38;5;124m\"\u001b[39m\u001b[38;5;124mtemp\u001b[39m\u001b[38;5;124m\"\u001b[39m: \u001b[38;5;241m25.5\u001b[39m, \u001b[38;5;124m\"\u001b[39m\u001b[38;5;124mhumidity\u001b[39m\u001b[38;5;124m\"\u001b[39m: \u001b[38;5;241m65\u001b[39m}    \u001b[38;5;66;03m# Duplicate\u001b[39;00m\n\u001b[1;32m      9\u001b[0m ])\n",
      "\u001b[0;31mModuleNotFoundError\u001b[0m: No module named 'pandas'"
     ]
    }
   ],
   "source": [
    "import pandas as pd\n",
    "\n",
    "# Test data dengan quality issues\n",
    "test_data = pd.DataFrame([\n",
    "    {\"sensor_id\": \"SENS001\", \"truck_id\": \"TRK001\", \"temp\": -999, \"humidity\": 120},  # Invalid values\n",
    "    {\"sensor_id\": \"SENS002\", \"truck_id\": \"\", \"temp\": 25.5, \"humidity\": None},       # Missing values  \n",
    "    {\"sensor_id\": \"SENS001\", \"truck_id\": \"TRK001\", \"temp\": 25.5, \"humidity\": 65},   # Duplicate\n",
    "    {\"sensor_id\": \"SENS001\", \"truck_id\": \"TRK001\", \"temp\": 25.5, \"humidity\": 65}    # Duplicate\n",
    "])"
   ]
  },
  {
   "cell_type": "code",
   "execution_count": null,
   "id": "5d6841d7",
   "metadata": {},
   "outputs": [],
   "source": [
    "class DataQualityChecker:\n",
    "    def __init__(self):\n",
    "        self.violations = []\n",
    "\n",
    "    def _add(self, vtype, message, details=None):\n",
    "        self.violations.append({\"type\": vtype, \"message\": message, \"details\": details})\n",
    "\n",
    "    def check_missing_values(self, df, required_columns):\n",
    "        \"\"\"Count missing (NaN) or empty-string values in required columns.\"\"\"\n",
    "        for col in required_columns:\n",
    "            if col not in df.columns:\n",
    "                self._add(\"missing_column\", f\"Column not found: {col}\", {\"column\": col})\n",
    "                continue\n",
    "            # consider NaN or empty/whitespace string as missing\n",
    "            missing_mask = df[col].isna() | (df[col].astype(str).str.strip() == \"\")\n",
    "            count = int(missing_mask.sum())\n",
    "            if count > 0:\n",
    "                samples = df[missing_mask].head(5).to_dict(orient=\"records\")\n",
    "                self._add(\"missing_values\", f\"{count} missing in column {col}\", {\"column\": col, \"count\": count, \"samples\": samples})\n",
    "\n",
    "    def check_value_ranges(self, df):\n",
    "        \"\"\"Check temperature and humidity ranges (temperature: -40..80, humidity: 0..100).\"\"\"\n",
    "        # detect candidate columns\n",
    "        temp_col = next((c for c in df.columns if c.lower() in (\"temp\", \"temperature\", \"t\")), None)\n",
    "        hum_col  = next((c for c in df.columns if c.lower() in (\"humidity\", \"hum\", \"h\")), None)\n",
    "\n",
    "        if temp_col:\n",
    "            temp_num = pd.to_numeric(df[temp_col], errors=\"coerce\")\n",
    "            # invalid if non-numeric (but original non-null) or out of range\n",
    "            invalid_mask = (~temp_num.notna() & df[temp_col].notna()) | (temp_num < -40) | (temp_num > 80)\n",
    "            count = int(invalid_mask.sum())\n",
    "            if count > 0:\n",
    "                samples = df[invalid_mask].head(5).to_dict(orient=\"records\")\n",
    "                self._add(\"value_range\", f\"{count} invalid temperature values in {temp_col}\", {\"column\": temp_col, \"count\": count, \"samples\": samples})\n",
    "\n",
    "        if hum_col:\n",
    "            hum_num = pd.to_numeric(df[hum_col], errors=\"coerce\")\n",
    "            invalid_mask = (~hum_num.notna() & df[hum_col].notna()) | (hum_num < 0) | (hum_num > 100)\n",
    "            count = int(invalid_mask.sum())\n",
    "            if count > 0:\n",
    "                samples = df[invalid_mask].head(5).to_dict(orient=\"records\")\n",
    "                self._add(\"value_range\", f\"{count} invalid humidity values in {hum_col}\", {\"column\": hum_col, \"count\": count, \"samples\": samples})\n",
    "\n",
    "    def check_duplicates(self, df, key_columns):\n",
    "        \"\"\"Find duplicate rows based on key_columns (keep=False => mark all in duplicate groups).\"\"\"\n",
    "        missing = [c for c in key_columns if c not in df.columns]\n",
    "        if missing:\n",
    "            self._add(\"missing_column\", f\"Key columns missing: {missing}\", {\"missing\": missing})\n",
    "            return\n",
    "        dup_mask = df.duplicated(subset=key_columns, keep=False)\n",
    "        count = int(dup_mask.sum())\n",
    "        if count > 0:\n",
    "            # group duplicate keys and counts\n",
    "            groups = df[dup_mask].groupby(key_columns).size().reset_index(name=\"dup_count\").to_dict(orient=\"records\")\n",
    "            samples = df[dup_mask].head(10).to_dict(orient=\"records\")\n",
    "            self._add(\"duplicates\", f\"{count} duplicate rows based on {key_columns}\", {\"count\": count, \"groups\": groups, \"samples\": samples})\n",
    "\n",
    "    def generate_report(self):\n",
    "        \"\"\"Return report dict summarizing violations.\"\"\"\n",
    "        summary = {\n",
    "            \"total_violations\": len(self.violations),\n",
    "            \"violations\": self.violations\n",
    "        }\n",
    "        return summary"
   ]
  },
  {
   "cell_type": "code",
   "execution_count": null,
   "id": "8da6377e",
   "metadata": {},
   "outputs": [],
   "source": [
    "# Test the checker\n",
    "checker = DataQualityChecker()\n",
    "checker.check_missing_values(test_data, ['sensor_id', 'truck_id'])\n",
    "checker.check_value_ranges(test_data)\n",
    "checker.check_duplicates(test_data, ['sensor_id', 'truck_id'])\n",
    "report = checker.generate_report()\n",
    "print(json.dumps(report, indent=2))"
   ]
  }
 ],
 "metadata": {
  "kernelspec": {
   "display_name": "Python 3",
   "language": "python",
   "name": "python3"
  },
  "language_info": {
   "codemirror_mode": {
    "name": "ipython",
    "version": 3
   },
   "file_extension": ".py",
   "mimetype": "text/x-python",
   "name": "python",
   "nbconvert_exporter": "python",
   "pygments_lexer": "ipython3",
   "version": "3.10.12"
  }
 },
 "nbformat": 4,
 "nbformat_minor": 5
}
